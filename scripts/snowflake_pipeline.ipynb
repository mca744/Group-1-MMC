{
 "cells": [
  {
   "cell_type": "code",
   "execution_count": 19,
   "metadata": {},
   "outputs": [],
   "source": [
    "import pandas as pd\n",
    "\n",
    "# Load the data\n",
    "tsa_data = pd.read_csv(\"/Users/matanlevy/Desktop/Group-1-MMC/Data/csvdata/tsa_final.csv\")\n",
    "weather_data = pd.read_csv(\"/Users/matanlevy/Desktop/Group-1-MMC/Data/csvdata/weather_data_final.csv\")\n",
    "\n",
    "# Drop duplicates from weather_data based on AirportCode to ensure that each airport code has unique lat/long\n",
    "weather_data = weather_data.drop_duplicates(subset=['AirportCode'])\n",
    "\n",
    "# Merge tsa_data and weather_data on 'airportcode'/'AirportCode' column\n",
    "merged_data = pd.merge(tsa_data, weather_data[['AirportCode','Latitude', 'Longitude']], \n",
    "                       left_on='airportcode', \n",
    "                       right_on='AirportCode', \n",
    "                       how='left')\n",
    "\n",
    "# Drop 'AirportCode' column from merged_data\n",
    "merged_data = merged_data.drop(['AirportCode'], axis=1)\n",
    "\n",
    "# Drop rows with NaN in either 'Latitude' or 'Longitude'\n",
    "merged_data.dropna(subset=['Latitude', 'Longitude'], inplace=True)"
   ]
  },
  {
   "cell_type": "code",
   "execution_count": 6,
   "metadata": {},
   "outputs": [
    {
     "name": "stdout",
     "output_type": "stream",
     "text": [
      "Index(['num', 'date', 'hour', 'airportcode', 'airportname', 'city', 'state',\n",
      "       'checkpoint', 'total', 'Latitude', 'Longitude'],\n",
      "      dtype='object')\n"
     ]
    }
   ],
   "source": [
    "print(merged_data.columns)"
   ]
  },
  {
   "cell_type": "code",
   "execution_count": 13,
   "metadata": {},
   "outputs": [
    {
     "ename": "KeyboardInterrupt",
     "evalue": "",
     "output_type": "error",
     "traceback": [
      "\u001b[0;31m---------------------------------------------------------------------------\u001b[0m",
      "\u001b[0;31mKeyboardInterrupt\u001b[0m                         Traceback (most recent call last)",
      "Cell \u001b[0;32mIn[13], line 26\u001b[0m\n\u001b[1;32m     23\u001b[0m             data \u001b[39m=\u001b[39m (row[\u001b[39m'\u001b[39m\u001b[39mairportcode\u001b[39m\u001b[39m'\u001b[39m], row[\u001b[39m'\u001b[39m\u001b[39mairportname\u001b[39m\u001b[39m'\u001b[39m], row[\u001b[39m'\u001b[39m\u001b[39mcity\u001b[39m\u001b[39m'\u001b[39m], row[\u001b[39m'\u001b[39m\u001b[39mstate\u001b[39m\u001b[39m'\u001b[39m], row[\u001b[39m'\u001b[39m\u001b[39mLatitude\u001b[39m\u001b[39m'\u001b[39m], row[\u001b[39m'\u001b[39m\u001b[39mLongitude\u001b[39m\u001b[39m'\u001b[39m], row[\u001b[39m'\u001b[39m\u001b[39mcheckpoint\u001b[39m\u001b[39m'\u001b[39m])\n\u001b[1;32m     25\u001b[0m             \u001b[39m# Insert row into Snowflake table\u001b[39;00m\n\u001b[0;32m---> 26\u001b[0m             cur\u001b[39m.\u001b[39;49mexecute(query, data)\n\u001b[1;32m     27\u001b[0m \u001b[39mexcept\u001b[39;00m \u001b[39mException\u001b[39;00m \u001b[39mas\u001b[39;00m e:\n\u001b[1;32m     28\u001b[0m     \u001b[39mprint\u001b[39m(\u001b[39m\"\u001b[39m\u001b[39mError: \u001b[39m\u001b[39m\"\u001b[39m, e)\n",
      "File \u001b[0;32m~/Library/Python/3.9/lib/python/site-packages/snowflake/connector/cursor.py:807\u001b[0m, in \u001b[0;36mSnowflakeCursor.execute\u001b[0;34m(self, command, params, _bind_stage, timeout, _exec_async, _no_retry, _do_reset, _put_callback, _put_azure_callback, _put_callback_output_stream, _get_callback, _get_azure_callback, _get_callback_output_stream, _show_progress_bar, _statement_params, _is_internal, _describe_only, _no_results, _is_put_get, _raise_put_get_error, _force_put_overwrite, _skip_upload_on_content_match, file_stream, num_statements)\u001b[0m\n\u001b[1;32m    805\u001b[0m \u001b[39mif\u001b[39;00m logger\u001b[39m.\u001b[39mgetEffectiveLevel() \u001b[39m<\u001b[39m\u001b[39m=\u001b[39m logging\u001b[39m.\u001b[39mINFO:\n\u001b[1;32m    806\u001b[0m     logger\u001b[39m.\u001b[39minfo(\u001b[39m\"\u001b[39m\u001b[39mquery: [\u001b[39m\u001b[39m%s\u001b[39;00m\u001b[39m]\u001b[39m\u001b[39m\"\u001b[39m, \u001b[39mself\u001b[39m\u001b[39m.\u001b[39m_format_query_for_log(query))\n\u001b[0;32m--> 807\u001b[0m ret \u001b[39m=\u001b[39m \u001b[39mself\u001b[39;49m\u001b[39m.\u001b[39;49m_execute_helper(query, \u001b[39m*\u001b[39;49m\u001b[39m*\u001b[39;49mkwargs)\n\u001b[1;32m    808\u001b[0m \u001b[39mself\u001b[39m\u001b[39m.\u001b[39m_sfqid \u001b[39m=\u001b[39m (\n\u001b[1;32m    809\u001b[0m     ret[\u001b[39m\"\u001b[39m\u001b[39mdata\u001b[39m\u001b[39m\"\u001b[39m][\u001b[39m\"\u001b[39m\u001b[39mqueryId\u001b[39m\u001b[39m\"\u001b[39m]\n\u001b[1;32m    810\u001b[0m     \u001b[39mif\u001b[39;00m \u001b[39m\"\u001b[39m\u001b[39mdata\u001b[39m\u001b[39m\"\u001b[39m \u001b[39min\u001b[39;00m ret \u001b[39mand\u001b[39;00m \u001b[39m\"\u001b[39m\u001b[39mqueryId\u001b[39m\u001b[39m\"\u001b[39m \u001b[39min\u001b[39;00m ret[\u001b[39m\"\u001b[39m\u001b[39mdata\u001b[39m\u001b[39m\"\u001b[39m]\n\u001b[1;32m    811\u001b[0m     \u001b[39melse\u001b[39;00m \u001b[39mNone\u001b[39;00m\n\u001b[1;32m    812\u001b[0m )\n\u001b[1;32m    813\u001b[0m logger\u001b[39m.\u001b[39mdebug(\u001b[39mf\u001b[39m\u001b[39m\"\u001b[39m\u001b[39msfqid: \u001b[39m\u001b[39m{\u001b[39;00m\u001b[39mself\u001b[39m\u001b[39m.\u001b[39msfqid\u001b[39m}\u001b[39;00m\u001b[39m\"\u001b[39m)\n",
      "File \u001b[0;32m~/Library/Python/3.9/lib/python/site-packages/snowflake/connector/cursor.py:521\u001b[0m, in \u001b[0;36mSnowflakeCursor._execute_helper\u001b[0;34m(self, query, timeout, statement_params, binding_params, binding_stage, is_internal, describe_only, _no_results, _is_put_get, _no_retry)\u001b[0m\n\u001b[1;32m    519\u001b[0m ret: \u001b[39mdict\u001b[39m[\u001b[39mstr\u001b[39m, Any] \u001b[39m=\u001b[39m {\u001b[39m\"\u001b[39m\u001b[39mdata\u001b[39m\u001b[39m\"\u001b[39m: {}}\n\u001b[1;32m    520\u001b[0m \u001b[39mtry\u001b[39;00m:\n\u001b[0;32m--> 521\u001b[0m     ret \u001b[39m=\u001b[39m \u001b[39mself\u001b[39;49m\u001b[39m.\u001b[39;49m_connection\u001b[39m.\u001b[39;49mcmd_query(\n\u001b[1;32m    522\u001b[0m         query,\n\u001b[1;32m    523\u001b[0m         \u001b[39mself\u001b[39;49m\u001b[39m.\u001b[39;49m_sequence_counter,\n\u001b[1;32m    524\u001b[0m         \u001b[39mself\u001b[39;49m\u001b[39m.\u001b[39;49m_request_id,\n\u001b[1;32m    525\u001b[0m         binding_params\u001b[39m=\u001b[39;49mbinding_params,\n\u001b[1;32m    526\u001b[0m         binding_stage\u001b[39m=\u001b[39;49mbinding_stage,\n\u001b[1;32m    527\u001b[0m         is_file_transfer\u001b[39m=\u001b[39;49m\u001b[39mbool\u001b[39;49m(\u001b[39mself\u001b[39;49m\u001b[39m.\u001b[39;49m_is_file_transfer),\n\u001b[1;32m    528\u001b[0m         statement_params\u001b[39m=\u001b[39;49mstatement_params,\n\u001b[1;32m    529\u001b[0m         is_internal\u001b[39m=\u001b[39;49mis_internal,\n\u001b[1;32m    530\u001b[0m         describe_only\u001b[39m=\u001b[39;49mdescribe_only,\n\u001b[1;32m    531\u001b[0m         _no_results\u001b[39m=\u001b[39;49m_no_results,\n\u001b[1;32m    532\u001b[0m         _no_retry\u001b[39m=\u001b[39;49m_no_retry,\n\u001b[1;32m    533\u001b[0m     )\n\u001b[1;32m    534\u001b[0m \u001b[39mfinally\u001b[39;00m:\n\u001b[1;32m    535\u001b[0m     \u001b[39mtry\u001b[39;00m:\n",
      "File \u001b[0;32m~/Library/Python/3.9/lib/python/site-packages/snowflake/connector/connection.py:1092\u001b[0m, in \u001b[0;36mSnowflakeConnection.cmd_query\u001b[0;34m(self, sql, sequence_counter, request_id, binding_params, binding_stage, is_file_transfer, statement_params, is_internal, describe_only, _no_results, _update_current_object, _no_retry)\u001b[0m\n\u001b[1;32m   1083\u001b[0m     logger\u001b[39m.\u001b[39mdebug(\n\u001b[1;32m   1084\u001b[0m         \u001b[39m\"\u001b[39m\u001b[39msql=[\u001b[39m\u001b[39m%s\u001b[39;00m\u001b[39m], sequence_id=[\u001b[39m\u001b[39m%s\u001b[39;00m\u001b[39m], is_file_transfer=[\u001b[39m\u001b[39m%s\u001b[39;00m\u001b[39m]\u001b[39m\u001b[39m\"\u001b[39m,\n\u001b[1;32m   1085\u001b[0m         \u001b[39mself\u001b[39m\u001b[39m.\u001b[39m_format_query_for_log(data[\u001b[39m\"\u001b[39m\u001b[39msqlText\u001b[39m\u001b[39m\"\u001b[39m]),\n\u001b[1;32m   1086\u001b[0m         data[\u001b[39m\"\u001b[39m\u001b[39msequenceId\u001b[39m\u001b[39m\"\u001b[39m],\n\u001b[1;32m   1087\u001b[0m         is_file_transfer,\n\u001b[1;32m   1088\u001b[0m     )\n\u001b[1;32m   1090\u001b[0m url_parameters \u001b[39m=\u001b[39m {REQUEST_ID: request_id}\n\u001b[0;32m-> 1092\u001b[0m ret \u001b[39m=\u001b[39m \u001b[39mself\u001b[39;49m\u001b[39m.\u001b[39;49mrest\u001b[39m.\u001b[39;49mrequest(\n\u001b[1;32m   1093\u001b[0m     \u001b[39m\"\u001b[39;49m\u001b[39m/queries/v1/query-request?\u001b[39;49m\u001b[39m\"\u001b[39;49m \u001b[39m+\u001b[39;49m urlencode(url_parameters),\n\u001b[1;32m   1094\u001b[0m     data,\n\u001b[1;32m   1095\u001b[0m     client\u001b[39m=\u001b[39;49mclient,\n\u001b[1;32m   1096\u001b[0m     _no_results\u001b[39m=\u001b[39;49m_no_results,\n\u001b[1;32m   1097\u001b[0m     _include_retry_params\u001b[39m=\u001b[39;49m\u001b[39mTrue\u001b[39;49;00m,\n\u001b[1;32m   1098\u001b[0m     _no_retry\u001b[39m=\u001b[39;49m_no_retry,\n\u001b[1;32m   1099\u001b[0m )\n\u001b[1;32m   1101\u001b[0m \u001b[39mif\u001b[39;00m ret \u001b[39mis\u001b[39;00m \u001b[39mNone\u001b[39;00m:\n\u001b[1;32m   1102\u001b[0m     ret \u001b[39m=\u001b[39m {\u001b[39m\"\u001b[39m\u001b[39mdata\u001b[39m\u001b[39m\"\u001b[39m: {}}\n",
      "File \u001b[0;32m~/Library/Python/3.9/lib/python/site-packages/snowflake/connector/network.py:481\u001b[0m, in \u001b[0;36mSnowflakeRestful.request\u001b[0;34m(self, url, body, method, client, _no_results, timeout, _include_retry_params, _no_retry)\u001b[0m\n\u001b[1;32m    479\u001b[0m     headers[HTTP_HEADER_SERVICE_NAME] \u001b[39m=\u001b[39m \u001b[39mself\u001b[39m\u001b[39m.\u001b[39m_connection\u001b[39m.\u001b[39mservice_name\n\u001b[1;32m    480\u001b[0m \u001b[39mif\u001b[39;00m method \u001b[39m==\u001b[39m \u001b[39m\"\u001b[39m\u001b[39mpost\u001b[39m\u001b[39m\"\u001b[39m:\n\u001b[0;32m--> 481\u001b[0m     \u001b[39mreturn\u001b[39;00m \u001b[39mself\u001b[39;49m\u001b[39m.\u001b[39;49m_post_request(\n\u001b[1;32m    482\u001b[0m         url,\n\u001b[1;32m    483\u001b[0m         headers,\n\u001b[1;32m    484\u001b[0m         json\u001b[39m.\u001b[39;49mdumps(body),\n\u001b[1;32m    485\u001b[0m         token\u001b[39m=\u001b[39;49m\u001b[39mself\u001b[39;49m\u001b[39m.\u001b[39;49mtoken,\n\u001b[1;32m    486\u001b[0m         _no_results\u001b[39m=\u001b[39;49m_no_results,\n\u001b[1;32m    487\u001b[0m         timeout\u001b[39m=\u001b[39;49mtimeout,\n\u001b[1;32m    488\u001b[0m         _include_retry_params\u001b[39m=\u001b[39;49m_include_retry_params,\n\u001b[1;32m    489\u001b[0m         no_retry\u001b[39m=\u001b[39;49m_no_retry,\n\u001b[1;32m    490\u001b[0m     )\n\u001b[1;32m    491\u001b[0m \u001b[39melse\u001b[39;00m:\n\u001b[1;32m    492\u001b[0m     \u001b[39mreturn\u001b[39;00m \u001b[39mself\u001b[39m\u001b[39m.\u001b[39m_get_request(url, headers, token\u001b[39m=\u001b[39m\u001b[39mself\u001b[39m\u001b[39m.\u001b[39mtoken, timeout\u001b[39m=\u001b[39mtimeout)\n",
      "File \u001b[0;32m~/Library/Python/3.9/lib/python/site-packages/snowflake/connector/network.py:720\u001b[0m, in \u001b[0;36mSnowflakeRestful._post_request\u001b[0;34m(self, url, headers, body, token, timeout, _no_results, no_retry, socket_timeout, _include_retry_params)\u001b[0m\n\u001b[1;32m    717\u001b[0m     ret \u001b[39m=\u001b[39m probe_connection(full_url)\n\u001b[1;32m    718\u001b[0m     pprint(ret)\n\u001b[0;32m--> 720\u001b[0m ret \u001b[39m=\u001b[39m \u001b[39mself\u001b[39;49m\u001b[39m.\u001b[39;49mfetch(\n\u001b[1;32m    721\u001b[0m     \u001b[39m\"\u001b[39;49m\u001b[39mpost\u001b[39;49m\u001b[39m\"\u001b[39;49m,\n\u001b[1;32m    722\u001b[0m     full_url,\n\u001b[1;32m    723\u001b[0m     headers,\n\u001b[1;32m    724\u001b[0m     data\u001b[39m=\u001b[39;49mbody,\n\u001b[1;32m    725\u001b[0m     timeout\u001b[39m=\u001b[39;49mtimeout,\n\u001b[1;32m    726\u001b[0m     token\u001b[39m=\u001b[39;49mtoken,\n\u001b[1;32m    727\u001b[0m     no_retry\u001b[39m=\u001b[39;49mno_retry,\n\u001b[1;32m    728\u001b[0m     socket_timeout\u001b[39m=\u001b[39;49msocket_timeout,\n\u001b[1;32m    729\u001b[0m     _include_retry_params\u001b[39m=\u001b[39;49m_include_retry_params,\n\u001b[1;32m    730\u001b[0m )\n\u001b[1;32m    731\u001b[0m logger\u001b[39m.\u001b[39mdebug(\n\u001b[1;32m    732\u001b[0m     \u001b[39m\"\u001b[39m\u001b[39mret[code] = \u001b[39m\u001b[39m{code}\u001b[39;00m\u001b[39m, after post request\u001b[39m\u001b[39m\"\u001b[39m\u001b[39m.\u001b[39mformat(\n\u001b[1;32m    733\u001b[0m         code\u001b[39m=\u001b[39m(ret\u001b[39m.\u001b[39mget(\u001b[39m\"\u001b[39m\u001b[39mcode\u001b[39m\u001b[39m\"\u001b[39m, \u001b[39m\"\u001b[39m\u001b[39mN/A\u001b[39m\u001b[39m\"\u001b[39m))\n\u001b[1;32m    734\u001b[0m     )\n\u001b[1;32m    735\u001b[0m )\n\u001b[1;32m    737\u001b[0m \u001b[39mif\u001b[39;00m ret\u001b[39m.\u001b[39mget(\u001b[39m\"\u001b[39m\u001b[39mcode\u001b[39m\u001b[39m\"\u001b[39m) \u001b[39m==\u001b[39m SESSION_EXPIRED_GS_CODE:\n",
      "File \u001b[0;32m~/Library/Python/3.9/lib/python/site-packages/snowflake/connector/network.py:818\u001b[0m, in \u001b[0;36mSnowflakeRestful.fetch\u001b[0;34m(self, method, full_url, headers, data, timeout, **kwargs)\u001b[0m\n\u001b[1;32m    816\u001b[0m retry_ctx \u001b[39m=\u001b[39m RetryCtx(timeout, include_retry_params)\n\u001b[1;32m    817\u001b[0m \u001b[39mwhile\u001b[39;00m \u001b[39mTrue\u001b[39;00m:\n\u001b[0;32m--> 818\u001b[0m     ret \u001b[39m=\u001b[39m \u001b[39mself\u001b[39;49m\u001b[39m.\u001b[39;49m_request_exec_wrapper(\n\u001b[1;32m    819\u001b[0m         session, method, full_url, headers, data, retry_ctx, \u001b[39m*\u001b[39;49m\u001b[39m*\u001b[39;49mkwargs\n\u001b[1;32m    820\u001b[0m     )\n\u001b[1;32m    821\u001b[0m     \u001b[39mif\u001b[39;00m ret \u001b[39mis\u001b[39;00m \u001b[39mnot\u001b[39;00m \u001b[39mNone\u001b[39;00m:\n\u001b[1;32m    822\u001b[0m         \u001b[39mreturn\u001b[39;00m ret\n",
      "File \u001b[0;32m~/Library/Python/3.9/lib/python/site-packages/snowflake/connector/network.py:861\u001b[0m, in \u001b[0;36mSnowflakeRestful._request_exec_wrapper\u001b[0;34m(self, session, method, full_url, headers, data, retry_ctx, no_retry, token, **kwargs)\u001b[0m\n\u001b[1;32m    859\u001b[0m full_url \u001b[39m=\u001b[39m SnowflakeRestful\u001b[39m.\u001b[39madd_request_guid(full_url)\n\u001b[1;32m    860\u001b[0m \u001b[39mtry\u001b[39;00m:\n\u001b[0;32m--> 861\u001b[0m     return_object \u001b[39m=\u001b[39m \u001b[39mself\u001b[39;49m\u001b[39m.\u001b[39;49m_request_exec(\n\u001b[1;32m    862\u001b[0m         session\u001b[39m=\u001b[39;49msession,\n\u001b[1;32m    863\u001b[0m         method\u001b[39m=\u001b[39;49mmethod,\n\u001b[1;32m    864\u001b[0m         full_url\u001b[39m=\u001b[39;49mfull_url,\n\u001b[1;32m    865\u001b[0m         headers\u001b[39m=\u001b[39;49mheaders,\n\u001b[1;32m    866\u001b[0m         data\u001b[39m=\u001b[39;49mdata,\n\u001b[1;32m    867\u001b[0m         token\u001b[39m=\u001b[39;49mtoken,\n\u001b[1;32m    868\u001b[0m         \u001b[39m*\u001b[39;49m\u001b[39m*\u001b[39;49mkwargs,\n\u001b[1;32m    869\u001b[0m     )\n\u001b[1;32m    870\u001b[0m     \u001b[39mif\u001b[39;00m return_object \u001b[39mis\u001b[39;00m \u001b[39mnot\u001b[39;00m \u001b[39mNone\u001b[39;00m:\n\u001b[1;32m    871\u001b[0m         \u001b[39mreturn\u001b[39;00m return_object\n",
      "File \u001b[0;32m~/Library/Python/3.9/lib/python/site-packages/snowflake/connector/network.py:1037\u001b[0m, in \u001b[0;36mSnowflakeRestful._request_exec\u001b[0;34m(self, session, method, full_url, headers, data, token, catch_okta_unauthorized_error, is_raw_text, is_raw_binary, binary_data_handler, socket_timeout)\u001b[0m\n\u001b[1;32m   1033\u001b[0m download_start_time \u001b[39m=\u001b[39m get_time_millis()\n\u001b[1;32m   1034\u001b[0m \u001b[39m# socket timeout is constant. You should be able to receive\u001b[39;00m\n\u001b[1;32m   1035\u001b[0m \u001b[39m# the response within the time. If not, ConnectReadTimeout or\u001b[39;00m\n\u001b[1;32m   1036\u001b[0m \u001b[39m# ReadTimeout is raised.\u001b[39;00m\n\u001b[0;32m-> 1037\u001b[0m raw_ret \u001b[39m=\u001b[39m session\u001b[39m.\u001b[39;49mrequest(\n\u001b[1;32m   1038\u001b[0m     method\u001b[39m=\u001b[39;49mmethod,\n\u001b[1;32m   1039\u001b[0m     url\u001b[39m=\u001b[39;49mfull_url,\n\u001b[1;32m   1040\u001b[0m     headers\u001b[39m=\u001b[39;49mheaders,\n\u001b[1;32m   1041\u001b[0m     data\u001b[39m=\u001b[39;49minput_data,\n\u001b[1;32m   1042\u001b[0m     timeout\u001b[39m=\u001b[39;49msocket_timeout,\n\u001b[1;32m   1043\u001b[0m     verify\u001b[39m=\u001b[39;49m\u001b[39mTrue\u001b[39;49;00m,\n\u001b[1;32m   1044\u001b[0m     stream\u001b[39m=\u001b[39;49mis_raw_binary,\n\u001b[1;32m   1045\u001b[0m     auth\u001b[39m=\u001b[39;49mSnowflakeAuth(token),\n\u001b[1;32m   1046\u001b[0m )\n\u001b[1;32m   1047\u001b[0m download_end_time \u001b[39m=\u001b[39m get_time_millis()\n\u001b[1;32m   1049\u001b[0m \u001b[39mtry\u001b[39;00m:\n",
      "File \u001b[0;32m~/Library/Python/3.9/lib/python/site-packages/snowflake/connector/vendored/requests/sessions.py:587\u001b[0m, in \u001b[0;36mSession.request\u001b[0;34m(self, method, url, params, data, headers, cookies, files, auth, timeout, allow_redirects, proxies, hooks, stream, verify, cert, json)\u001b[0m\n\u001b[1;32m    582\u001b[0m send_kwargs \u001b[39m=\u001b[39m {\n\u001b[1;32m    583\u001b[0m     \u001b[39m\"\u001b[39m\u001b[39mtimeout\u001b[39m\u001b[39m\"\u001b[39m: timeout,\n\u001b[1;32m    584\u001b[0m     \u001b[39m\"\u001b[39m\u001b[39mallow_redirects\u001b[39m\u001b[39m\"\u001b[39m: allow_redirects,\n\u001b[1;32m    585\u001b[0m }\n\u001b[1;32m    586\u001b[0m send_kwargs\u001b[39m.\u001b[39mupdate(settings)\n\u001b[0;32m--> 587\u001b[0m resp \u001b[39m=\u001b[39m \u001b[39mself\u001b[39;49m\u001b[39m.\u001b[39;49msend(prep, \u001b[39m*\u001b[39;49m\u001b[39m*\u001b[39;49msend_kwargs)\n\u001b[1;32m    589\u001b[0m \u001b[39mreturn\u001b[39;00m resp\n",
      "File \u001b[0;32m~/Library/Python/3.9/lib/python/site-packages/snowflake/connector/vendored/requests/sessions.py:701\u001b[0m, in \u001b[0;36mSession.send\u001b[0;34m(self, request, **kwargs)\u001b[0m\n\u001b[1;32m    698\u001b[0m start \u001b[39m=\u001b[39m preferred_clock()\n\u001b[1;32m    700\u001b[0m \u001b[39m# Send the request\u001b[39;00m\n\u001b[0;32m--> 701\u001b[0m r \u001b[39m=\u001b[39m adapter\u001b[39m.\u001b[39;49msend(request, \u001b[39m*\u001b[39;49m\u001b[39m*\u001b[39;49mkwargs)\n\u001b[1;32m    703\u001b[0m \u001b[39m# Total elapsed time of the request (approximately)\u001b[39;00m\n\u001b[1;32m    704\u001b[0m elapsed \u001b[39m=\u001b[39m preferred_clock() \u001b[39m-\u001b[39m start\n",
      "File \u001b[0;32m~/Library/Python/3.9/lib/python/site-packages/snowflake/connector/vendored/requests/adapters.py:487\u001b[0m, in \u001b[0;36mHTTPAdapter.send\u001b[0;34m(self, request, stream, timeout, verify, cert, proxies)\u001b[0m\n\u001b[1;32m    484\u001b[0m     timeout \u001b[39m=\u001b[39m TimeoutSauce(connect\u001b[39m=\u001b[39mtimeout, read\u001b[39m=\u001b[39mtimeout)\n\u001b[1;32m    486\u001b[0m \u001b[39mtry\u001b[39;00m:\n\u001b[0;32m--> 487\u001b[0m     resp \u001b[39m=\u001b[39m conn\u001b[39m.\u001b[39;49murlopen(\n\u001b[1;32m    488\u001b[0m         method\u001b[39m=\u001b[39;49mrequest\u001b[39m.\u001b[39;49mmethod,\n\u001b[1;32m    489\u001b[0m         url\u001b[39m=\u001b[39;49murl,\n\u001b[1;32m    490\u001b[0m         body\u001b[39m=\u001b[39;49mrequest\u001b[39m.\u001b[39;49mbody,\n\u001b[1;32m    491\u001b[0m         headers\u001b[39m=\u001b[39;49mrequest\u001b[39m.\u001b[39;49mheaders,\n\u001b[1;32m    492\u001b[0m         redirect\u001b[39m=\u001b[39;49m\u001b[39mFalse\u001b[39;49;00m,\n\u001b[1;32m    493\u001b[0m         assert_same_host\u001b[39m=\u001b[39;49m\u001b[39mFalse\u001b[39;49;00m,\n\u001b[1;32m    494\u001b[0m         preload_content\u001b[39m=\u001b[39;49m\u001b[39mFalse\u001b[39;49;00m,\n\u001b[1;32m    495\u001b[0m         decode_content\u001b[39m=\u001b[39;49m\u001b[39mFalse\u001b[39;49;00m,\n\u001b[1;32m    496\u001b[0m         retries\u001b[39m=\u001b[39;49m\u001b[39mself\u001b[39;49m\u001b[39m.\u001b[39;49mmax_retries,\n\u001b[1;32m    497\u001b[0m         timeout\u001b[39m=\u001b[39;49mtimeout,\n\u001b[1;32m    498\u001b[0m         chunked\u001b[39m=\u001b[39;49mchunked,\n\u001b[1;32m    499\u001b[0m     )\n\u001b[1;32m    501\u001b[0m \u001b[39mexcept\u001b[39;00m (ProtocolError, \u001b[39mOSError\u001b[39;00m) \u001b[39mas\u001b[39;00m err:\n\u001b[1;32m    502\u001b[0m     \u001b[39mraise\u001b[39;00m \u001b[39mConnectionError\u001b[39;00m(err, request\u001b[39m=\u001b[39mrequest)\n",
      "File \u001b[0;32m~/Library/Python/3.9/lib/python/site-packages/snowflake/connector/vendored/urllib3/connectionpool.py:703\u001b[0m, in \u001b[0;36mHTTPConnectionPool.urlopen\u001b[0;34m(self, method, url, body, headers, retries, redirect, assert_same_host, timeout, pool_timeout, release_conn, chunked, body_pos, **response_kw)\u001b[0m\n\u001b[1;32m    700\u001b[0m     \u001b[39mself\u001b[39m\u001b[39m.\u001b[39m_prepare_proxy(conn)\n\u001b[1;32m    702\u001b[0m \u001b[39m# Make the request on the httplib connection object.\u001b[39;00m\n\u001b[0;32m--> 703\u001b[0m httplib_response \u001b[39m=\u001b[39m \u001b[39mself\u001b[39;49m\u001b[39m.\u001b[39;49m_make_request(\n\u001b[1;32m    704\u001b[0m     conn,\n\u001b[1;32m    705\u001b[0m     method,\n\u001b[1;32m    706\u001b[0m     url,\n\u001b[1;32m    707\u001b[0m     timeout\u001b[39m=\u001b[39;49mtimeout_obj,\n\u001b[1;32m    708\u001b[0m     body\u001b[39m=\u001b[39;49mbody,\n\u001b[1;32m    709\u001b[0m     headers\u001b[39m=\u001b[39;49mheaders,\n\u001b[1;32m    710\u001b[0m     chunked\u001b[39m=\u001b[39;49mchunked,\n\u001b[1;32m    711\u001b[0m )\n\u001b[1;32m    713\u001b[0m \u001b[39m# If we're going to release the connection in ``finally:``, then\u001b[39;00m\n\u001b[1;32m    714\u001b[0m \u001b[39m# the response doesn't need to know about the connection. Otherwise\u001b[39;00m\n\u001b[1;32m    715\u001b[0m \u001b[39m# it will also try to release it and we'll have a double-release\u001b[39;00m\n\u001b[1;32m    716\u001b[0m \u001b[39m# mess.\u001b[39;00m\n\u001b[1;32m    717\u001b[0m response_conn \u001b[39m=\u001b[39m conn \u001b[39mif\u001b[39;00m \u001b[39mnot\u001b[39;00m release_conn \u001b[39melse\u001b[39;00m \u001b[39mNone\u001b[39;00m\n",
      "File \u001b[0;32m~/Library/Python/3.9/lib/python/site-packages/snowflake/connector/vendored/urllib3/connectionpool.py:449\u001b[0m, in \u001b[0;36mHTTPConnectionPool._make_request\u001b[0;34m(self, conn, method, url, timeout, chunked, **httplib_request_kw)\u001b[0m\n\u001b[1;32m    444\u001b[0m             httplib_response \u001b[39m=\u001b[39m conn\u001b[39m.\u001b[39mgetresponse()\n\u001b[1;32m    445\u001b[0m         \u001b[39mexcept\u001b[39;00m \u001b[39mBaseException\u001b[39;00m \u001b[39mas\u001b[39;00m e:\n\u001b[1;32m    446\u001b[0m             \u001b[39m# Remove the TypeError from the exception chain in\u001b[39;00m\n\u001b[1;32m    447\u001b[0m             \u001b[39m# Python 3 (including for exceptions like SystemExit).\u001b[39;00m\n\u001b[1;32m    448\u001b[0m             \u001b[39m# Otherwise it looks like a bug in the code.\u001b[39;00m\n\u001b[0;32m--> 449\u001b[0m             six\u001b[39m.\u001b[39;49mraise_from(e, \u001b[39mNone\u001b[39;49;00m)\n\u001b[1;32m    450\u001b[0m \u001b[39mexcept\u001b[39;00m (SocketTimeout, BaseSSLError, SocketError) \u001b[39mas\u001b[39;00m e:\n\u001b[1;32m    451\u001b[0m     \u001b[39mself\u001b[39m\u001b[39m.\u001b[39m_raise_timeout(err\u001b[39m=\u001b[39me, url\u001b[39m=\u001b[39murl, timeout_value\u001b[39m=\u001b[39mread_timeout)\n",
      "File \u001b[0;32m<string>:3\u001b[0m, in \u001b[0;36mraise_from\u001b[0;34m(value, from_value)\u001b[0m\n",
      "File \u001b[0;32m~/Library/Python/3.9/lib/python/site-packages/snowflake/connector/vendored/urllib3/connectionpool.py:444\u001b[0m, in \u001b[0;36mHTTPConnectionPool._make_request\u001b[0;34m(self, conn, method, url, timeout, chunked, **httplib_request_kw)\u001b[0m\n\u001b[1;32m    441\u001b[0m \u001b[39mexcept\u001b[39;00m \u001b[39mTypeError\u001b[39;00m:\n\u001b[1;32m    442\u001b[0m     \u001b[39m# Python 3\u001b[39;00m\n\u001b[1;32m    443\u001b[0m     \u001b[39mtry\u001b[39;00m:\n\u001b[0;32m--> 444\u001b[0m         httplib_response \u001b[39m=\u001b[39m conn\u001b[39m.\u001b[39;49mgetresponse()\n\u001b[1;32m    445\u001b[0m     \u001b[39mexcept\u001b[39;00m \u001b[39mBaseException\u001b[39;00m \u001b[39mas\u001b[39;00m e:\n\u001b[1;32m    446\u001b[0m         \u001b[39m# Remove the TypeError from the exception chain in\u001b[39;00m\n\u001b[1;32m    447\u001b[0m         \u001b[39m# Python 3 (including for exceptions like SystemExit).\u001b[39;00m\n\u001b[1;32m    448\u001b[0m         \u001b[39m# Otherwise it looks like a bug in the code.\u001b[39;00m\n\u001b[1;32m    449\u001b[0m         six\u001b[39m.\u001b[39mraise_from(e, \u001b[39mNone\u001b[39;00m)\n",
      "File \u001b[0;32m/opt/homebrew/Cellar/python@3.9/3.9.17_1/Frameworks/Python.framework/Versions/3.9/lib/python3.9/http/client.py:1377\u001b[0m, in \u001b[0;36mHTTPConnection.getresponse\u001b[0;34m(self)\u001b[0m\n\u001b[1;32m   1375\u001b[0m \u001b[39mtry\u001b[39;00m:\n\u001b[1;32m   1376\u001b[0m     \u001b[39mtry\u001b[39;00m:\n\u001b[0;32m-> 1377\u001b[0m         response\u001b[39m.\u001b[39;49mbegin()\n\u001b[1;32m   1378\u001b[0m     \u001b[39mexcept\u001b[39;00m \u001b[39mConnectionError\u001b[39;00m:\n\u001b[1;32m   1379\u001b[0m         \u001b[39mself\u001b[39m\u001b[39m.\u001b[39mclose()\n",
      "File \u001b[0;32m/opt/homebrew/Cellar/python@3.9/3.9.17_1/Frameworks/Python.framework/Versions/3.9/lib/python3.9/http/client.py:320\u001b[0m, in \u001b[0;36mHTTPResponse.begin\u001b[0;34m(self)\u001b[0m\n\u001b[1;32m    318\u001b[0m \u001b[39m# read until we get a non-100 response\u001b[39;00m\n\u001b[1;32m    319\u001b[0m \u001b[39mwhile\u001b[39;00m \u001b[39mTrue\u001b[39;00m:\n\u001b[0;32m--> 320\u001b[0m     version, status, reason \u001b[39m=\u001b[39m \u001b[39mself\u001b[39;49m\u001b[39m.\u001b[39;49m_read_status()\n\u001b[1;32m    321\u001b[0m     \u001b[39mif\u001b[39;00m status \u001b[39m!=\u001b[39m CONTINUE:\n\u001b[1;32m    322\u001b[0m         \u001b[39mbreak\u001b[39;00m\n",
      "File \u001b[0;32m/opt/homebrew/Cellar/python@3.9/3.9.17_1/Frameworks/Python.framework/Versions/3.9/lib/python3.9/http/client.py:281\u001b[0m, in \u001b[0;36mHTTPResponse._read_status\u001b[0;34m(self)\u001b[0m\n\u001b[1;32m    280\u001b[0m \u001b[39mdef\u001b[39;00m \u001b[39m_read_status\u001b[39m(\u001b[39mself\u001b[39m):\n\u001b[0;32m--> 281\u001b[0m     line \u001b[39m=\u001b[39m \u001b[39mstr\u001b[39m(\u001b[39mself\u001b[39;49m\u001b[39m.\u001b[39;49mfp\u001b[39m.\u001b[39;49mreadline(_MAXLINE \u001b[39m+\u001b[39;49m \u001b[39m1\u001b[39;49m), \u001b[39m\"\u001b[39m\u001b[39miso-8859-1\u001b[39m\u001b[39m\"\u001b[39m)\n\u001b[1;32m    282\u001b[0m     \u001b[39mif\u001b[39;00m \u001b[39mlen\u001b[39m(line) \u001b[39m>\u001b[39m _MAXLINE:\n\u001b[1;32m    283\u001b[0m         \u001b[39mraise\u001b[39;00m LineTooLong(\u001b[39m\"\u001b[39m\u001b[39mstatus line\u001b[39m\u001b[39m\"\u001b[39m)\n",
      "File \u001b[0;32m/opt/homebrew/Cellar/python@3.9/3.9.17_1/Frameworks/Python.framework/Versions/3.9/lib/python3.9/socket.py:704\u001b[0m, in \u001b[0;36mSocketIO.readinto\u001b[0;34m(self, b)\u001b[0m\n\u001b[1;32m    702\u001b[0m \u001b[39mwhile\u001b[39;00m \u001b[39mTrue\u001b[39;00m:\n\u001b[1;32m    703\u001b[0m     \u001b[39mtry\u001b[39;00m:\n\u001b[0;32m--> 704\u001b[0m         \u001b[39mreturn\u001b[39;00m \u001b[39mself\u001b[39;49m\u001b[39m.\u001b[39;49m_sock\u001b[39m.\u001b[39;49mrecv_into(b)\n\u001b[1;32m    705\u001b[0m     \u001b[39mexcept\u001b[39;00m timeout:\n\u001b[1;32m    706\u001b[0m         \u001b[39mself\u001b[39m\u001b[39m.\u001b[39m_timeout_occurred \u001b[39m=\u001b[39m \u001b[39mTrue\u001b[39;00m\n",
      "File \u001b[0;32m~/Library/Python/3.9/lib/python/site-packages/snowflake/connector/vendored/urllib3/contrib/pyopenssl.py:339\u001b[0m, in \u001b[0;36mWrappedSocket.recv_into\u001b[0;34m(self, *args, **kwargs)\u001b[0m\n\u001b[1;32m    337\u001b[0m         \u001b[39mraise\u001b[39;00m\n\u001b[1;32m    338\u001b[0m \u001b[39mexcept\u001b[39;00m OpenSSL\u001b[39m.\u001b[39mSSL\u001b[39m.\u001b[39mWantReadError:\n\u001b[0;32m--> 339\u001b[0m     \u001b[39mif\u001b[39;00m \u001b[39mnot\u001b[39;00m util\u001b[39m.\u001b[39;49mwait_for_read(\u001b[39mself\u001b[39;49m\u001b[39m.\u001b[39;49msocket, \u001b[39mself\u001b[39;49m\u001b[39m.\u001b[39;49msocket\u001b[39m.\u001b[39;49mgettimeout()):\n\u001b[1;32m    340\u001b[0m         \u001b[39mraise\u001b[39;00m timeout(\u001b[39m\"\u001b[39m\u001b[39mThe read operation timed out\u001b[39m\u001b[39m\"\u001b[39m)\n\u001b[1;32m    341\u001b[0m     \u001b[39melse\u001b[39;00m:\n",
      "File \u001b[0;32m~/Library/Python/3.9/lib/python/site-packages/snowflake/connector/vendored/urllib3/util/wait.py:145\u001b[0m, in \u001b[0;36mwait_for_read\u001b[0;34m(sock, timeout)\u001b[0m\n\u001b[1;32m    141\u001b[0m \u001b[39mdef\u001b[39;00m \u001b[39mwait_for_read\u001b[39m(sock, timeout\u001b[39m=\u001b[39m\u001b[39mNone\u001b[39;00m):\n\u001b[1;32m    142\u001b[0m \u001b[39m    \u001b[39m\u001b[39m\"\"\"Waits for reading to be available on a given socket.\u001b[39;00m\n\u001b[1;32m    143\u001b[0m \u001b[39m    Returns True if the socket is readable, or False if the timeout expired.\u001b[39;00m\n\u001b[1;32m    144\u001b[0m \u001b[39m    \"\"\"\u001b[39;00m\n\u001b[0;32m--> 145\u001b[0m     \u001b[39mreturn\u001b[39;00m wait_for_socket(sock, read\u001b[39m=\u001b[39;49m\u001b[39mTrue\u001b[39;49;00m, timeout\u001b[39m=\u001b[39;49mtimeout)\n",
      "File \u001b[0;32m~/Library/Python/3.9/lib/python/site-packages/snowflake/connector/vendored/urllib3/util/wait.py:106\u001b[0m, in \u001b[0;36mpoll_wait_for_socket\u001b[0;34m(sock, read, write, timeout)\u001b[0m\n\u001b[1;32m    103\u001b[0m         t \u001b[39m*\u001b[39m\u001b[39m=\u001b[39m \u001b[39m1000\u001b[39m\n\u001b[1;32m    104\u001b[0m     \u001b[39mreturn\u001b[39;00m poll_obj\u001b[39m.\u001b[39mpoll(t)\n\u001b[0;32m--> 106\u001b[0m \u001b[39mreturn\u001b[39;00m \u001b[39mbool\u001b[39m(_retry_on_intr(do_poll, timeout))\n",
      "File \u001b[0;32m~/Library/Python/3.9/lib/python/site-packages/snowflake/connector/vendored/urllib3/util/wait.py:43\u001b[0m, in \u001b[0;36m_retry_on_intr\u001b[0;34m(fn, timeout)\u001b[0m\n\u001b[1;32m     42\u001b[0m \u001b[39mdef\u001b[39;00m \u001b[39m_retry_on_intr\u001b[39m(fn, timeout):\n\u001b[0;32m---> 43\u001b[0m     \u001b[39mreturn\u001b[39;00m fn(timeout)\n",
      "File \u001b[0;32m~/Library/Python/3.9/lib/python/site-packages/snowflake/connector/vendored/urllib3/util/wait.py:104\u001b[0m, in \u001b[0;36mpoll_wait_for_socket.<locals>.do_poll\u001b[0;34m(t)\u001b[0m\n\u001b[1;32m    102\u001b[0m \u001b[39mif\u001b[39;00m t \u001b[39mis\u001b[39;00m \u001b[39mnot\u001b[39;00m \u001b[39mNone\u001b[39;00m:\n\u001b[1;32m    103\u001b[0m     t \u001b[39m*\u001b[39m\u001b[39m=\u001b[39m \u001b[39m1000\u001b[39m\n\u001b[0;32m--> 104\u001b[0m \u001b[39mreturn\u001b[39;00m poll_obj\u001b[39m.\u001b[39;49mpoll(t)\n",
      "File \u001b[0;32m~/Library/Python/3.9/lib/python/site-packages/snowflake/connector/cursor.py:510\u001b[0m, in \u001b[0;36mSnowflakeCursor._execute_helper.<locals>.interrupt_handler\u001b[0;34m(*_)\u001b[0m\n\u001b[1;32m    507\u001b[0m         \u001b[39mexcept\u001b[39;00m (\u001b[39mValueError\u001b[39;00m, \u001b[39mTypeError\u001b[39;00m):\n\u001b[1;32m    508\u001b[0m             \u001b[39m# ignore failures\u001b[39;00m\n\u001b[1;32m    509\u001b[0m             \u001b[39mpass\u001b[39;00m\n\u001b[0;32m--> 510\u001b[0m \u001b[39mraise\u001b[39;00m \u001b[39mKeyboardInterrupt\u001b[39;00m\n",
      "\u001b[0;31mKeyboardInterrupt\u001b[0m: "
     ]
    }
   ],
   "source": [
    "import pandas as pd\n",
    "import snowflake.connector\n",
    "\n",
    "# Establish connection to Snowflake\n",
    "try:\n",
    "    con = snowflake.connector.connect(\n",
    "        user='MATANLEVY',\n",
    "        password='xxxxxxxx',\n",
    "        account='xxxxxxxx',\n",
    "        warehouse='COMPUTE_WH',\n",
    "        database='TSA_MMC',\n",
    "        schema='INSTANCE'\n",
    "    )\n",
    "    # Create a cursor object\n",
    "    with con.cursor() as cur:\n",
    "        # Iterate over DataFrame rows\n",
    "        for i, row in merged_data.iterrows():\n",
    "            query = \"\"\"\n",
    "                INSERT INTO TSA_MMC.INSTANCE.AIRPORTDIMENSION \n",
    "                (\"AIRPORT ID\", \"AIRPORT NAME\", CITY, STATE, LATITUDE, LONGITUDE, CHECKPOINT) \n",
    "                VALUES (%s, %s, %s, %s, %s, %s, %s)\n",
    "            \"\"\"\n",
    "            data = (row['airportcode'], row['airportname'], row['city'], row['state'], row['Latitude'], row['Longitude'], row['checkpoint'])\n",
    "\n",
    "            # Insert row into Snowflake table\n",
    "            cur.execute(query, data)\n",
    "except Exception as e:\n",
    "    print(\"Error: \", e)\n",
    "finally:\n",
    "    con.close()\n"
   ]
  },
  {
   "cell_type": "code",
   "execution_count": 25,
   "metadata": {},
   "outputs": [
    {
     "name": "stdout",
     "output_type": "stream",
     "text": [
      "Index(['num', 'date', 'hour', 'airportcode', 'airportname', 'city', 'state',\n",
      "       'checkpoint', 'total', 'hourdateid', 'dayofweek', 'month', 'year'],\n",
      "      dtype='object')\n",
      "<bound method NDFrame.head of         num       date  hour airportcode                          airportname  \\\n",
      "0         1 2023-05-28     0         ANC  Ted Stevens Anchorage International   \n",
      "1         2 2023-05-28     0         ATL     Hartsfield Atlanta International   \n",
      "2         3 2023-05-28     0         BQN                     Rafael Hernandez   \n",
      "3         4 2023-05-28     0         BTV             Burlington International   \n",
      "4         5 2023-05-28     0         DCA           Washington Reagan National   \n",
      "...     ...        ...   ...         ...                                  ...   \n",
      "213563   27 2023-06-24    23         SLC         Salt Lake City International   \n",
      "213564   28 2023-06-24    23         SMF     Sacramento International Airport   \n",
      "213565   29 2023-06-24    23         SMF     Sacramento International Airport   \n",
      "213566   30 2023-06-24    23         STL      St. Louis Lambert International   \n",
      "213567   31 2023-06-24    23         TPA                  Tampa International   \n",
      "\n",
      "                    city state            checkpoint total        hourdateid  \\\n",
      "0              Anchorage    AK      South Checkpoint   113  2023-05-28T00:00   \n",
      "1                Atlanta    GA       Main Checkpoint   142  2023-05-28T00:00   \n",
      "2              Aguadilla    PR  Rafael Hernandez Air   268  2023-05-28T00:00   \n",
      "3       South Burlington    VT       Main Checkpoint     0  2023-05-28T00:00   \n",
      "4              Arlington    VA           Concourse A     1  2023-05-28T00:00   \n",
      "...                  ...   ...                   ...   ...               ...   \n",
      "213563    Salt Lake City    UT                  Main    98  2023-06-24T23:00   \n",
      "213564        Sacramento    CA             Central B   221  2023-06-24T23:00   \n",
      "213565        Sacramento    CA            Terminal A    67  2023-06-24T23:00   \n",
      "213566          St Louis    MO                  T2-E     9  2023-06-24T23:00   \n",
      "213567             Tampa    FL                 TPA C     4  2023-06-24T23:00   \n",
      "\n",
      "       dayofweek month  year  \n",
      "0         Sunday   May  2023  \n",
      "1         Sunday   May  2023  \n",
      "2         Sunday   May  2023  \n",
      "3         Sunday   May  2023  \n",
      "4         Sunday   May  2023  \n",
      "...          ...   ...   ...  \n",
      "213563  Saturday  June  2023  \n",
      "213564  Saturday  June  2023  \n",
      "213565  Saturday  June  2023  \n",
      "213566  Saturday  June  2023  \n",
      "213567  Saturday  June  2023  \n",
      "\n",
      "[213568 rows x 13 columns]>\n"
     ]
    }
   ],
   "source": [
    "import pandas as pd\n",
    "\n",
    "# Load the tsa_final.csv file\n",
    "df_tsa = pd.read_csv('/Users/matanlevy/Desktop/Group-1-MMC/Data/csvdata/tsa_final.csv')\n",
    "\n",
    "# Convert 'date' column to datetime format\n",
    "df_tsa['date'] = pd.to_datetime(df_tsa['date'])\n",
    "\n",
    "# Extract 'hour' from 'hour' column\n",
    "df_tsa['hour'] = pd.to_datetime(df_tsa['hour'], format='%H:%M').dt.hour\n",
    "\n",
    "# Combine 'date' and 'hour' to form 'hourdateid'\n",
    "df_tsa['hourdateid'] = df_tsa['date'].astype(str) + 'T' + df_tsa['hour'].astype(str).str.zfill(2) + ':00'\n",
    "\n",
    "df_tsa['dayofweek'] = df_tsa['date'].dt.day_name()\n",
    "df_tsa['month'] = df_tsa['date'].dt.month_name()\n",
    "df_tsa['year'] = df_tsa['date'].dt.year\n",
    "\n",
    "# Save the updated dataframe back to csv\n",
    "print(df_tsa.columns)\n",
    "print(df_tsa.head)"
   ]
  },
  {
   "cell_type": "code",
   "execution_count": 39,
   "metadata": {},
   "outputs": [
    {
     "name": "stderr",
     "output_type": "stream",
     "text": [
      "/var/folders/ny/mvlwnjvx33lb6dljv2sm_brm0000gn/T/ipykernel_2925/154450391.py:44: UserWarning: The provided table name 'DATEDIMENSIONS' is not found exactly as such in the database after writing the table, possibly due to case sensitivity issues. Consider using lower case table names.\n",
      "  df_snowflake.to_sql('DATEDIMENSIONS', con = engine, if_exists = 'append', index = False, chunksize=chunksize)\n"
     ]
    },
    {
     "data": {
      "text/plain": [
       "672"
      ]
     },
     "execution_count": 39,
     "metadata": {},
     "output_type": "execute_result"
    }
   ],
   "source": [
    "from sqlalchemy import create_engine\n",
    "from snowflake.sqlalchemy import URL\n",
    "import pandas as pd\n",
    "import snowflake.connector\n",
    "\n",
    "con = snowflake.connector.connect(\n",
    "    user='MATANLEVY',\n",
    "    password='xxxxxxx',\n",
    "    account='xxxxxxx',\n",
    "    warehouse='COMPUTE_WH',\n",
    "    database='TSA_MMC',\n",
    "    schema='INSTANCE'\n",
    ")\n",
    "\n",
    "# Configure the connection\n",
    "engine = create_engine(URL(\n",
    "    account = 'xxxxxxx',\n",
    "    user = 'MATANLEVY',\n",
    "    password = 'xxxxxxxx',\n",
    "    database = 'TSA_MMC',\n",
    "    schema = 'INSTANCE',\n",
    "    warehouse = 'COMPUTE_WH',\n",
    "    role='ACCOUNTADMIN',\n",
    "))\n",
    "\n",
    "# Prepare the data to match the snowflake schema\n",
    "df_snowflake = df_tsa[['hourdateid', 'date', 'hour', 'dayofweek', 'month', 'year']].copy()\n",
    "df_snowflake.columns = [\"HOUR DATE ID\", \"DATE\", \"HOUR OF DAY\", \"DAY OF WEEK\", \"MONTH\", \"YEAR\"]\n",
    "\n",
    "# Make sure types match with snowflake schema\n",
    "df_snowflake[\"DATE\"] = pd.to_datetime(df_snowflake[\"DATE\"])\n",
    "\n",
    "# Convert 'hour' to integer type\n",
    "df_snowflake['HOUR OF DAY'] = df_snowflake['HOUR OF DAY'].astype(int)\n",
    "\n",
    "df_snowflake[\"YEAR\"] = df_snowflake[\"YEAR\"].astype(int)\n",
    "\n",
    "chunksize = 10000\n",
    "\n",
    "# Deduplicate the data\n",
    "df_snowflake = df_snowflake.drop_duplicates()\n",
    "\n",
    "# Write the DataFrame to Snowflake\n",
    "df_snowflake.to_sql('DATEDIMENSIONS', con = engine, if_exists = 'append', index = False, chunksize=chunksize)"
   ]
  },
  {
   "cell_type": "code",
   "execution_count": 40,
   "metadata": {},
   "outputs": [
    {
     "name": "stdout",
     "output_type": "stream",
     "text": [
      "Index(['time', 'temperature_2m', 'relativehumidity_2m', 'dewpoint_2m',\n",
      "       'apparent_temperature', 'precipitation_probability', 'precipitation',\n",
      "       'rain', 'showers', 'snowfall', 'snow_depth', 'cloudcover',\n",
      "       'AirportCode', 'Latitude', 'Longitude', 'num', 'date', 'hour',\n",
      "       'airportcode', 'airportname', 'city', 'state', 'checkpoint', 'total'],\n",
      "      dtype='object')\n"
     ]
    }
   ],
   "source": [
    "import pandas as pd\n",
    "\n",
    "# Load dataframes\n",
    "df_weather = pd.read_csv('/Users/matanlevy/Desktop/Group-1-MMC/Data/csvdata/weather_data_final.csv')\n",
    "df_tsa = pd.read_csv('/Users/matanlevy/Desktop/Group-1-MMC/Data/csvdata/tsa_final.csv')\n",
    "\n",
    "# Convert 'date' and 'hour' to datetime and format it to match 'time' in df_weather\n",
    "df_tsa['time'] = pd.to_datetime(df_tsa['date'] + ' ' + df_tsa['hour']).dt.strftime('%Y-%m-%dT%H:%M')\n",
    "\n",
    "# Merge dataframes on 'time' and 'airportcode'/'AirportCode'\n",
    "df_merged = pd.merge(df_weather, df_tsa, left_on=['time', 'AirportCode'], right_on=['time', 'airportcode'], how='inner')\n",
    "\n",
    "print(df_merged.columns)"
   ]
  },
  {
   "cell_type": "code",
   "execution_count": 1,
   "metadata": {},
   "outputs": [
    {
     "ename": "NameError",
     "evalue": "name 'pd' is not defined",
     "output_type": "error",
     "traceback": [
      "\u001b[0;31m---------------------------------------------------------------------------\u001b[0m",
      "\u001b[0;31mNameError\u001b[0m                                 Traceback (most recent call last)",
      "Cell \u001b[0;32mIn[1], line 2\u001b[0m\n\u001b[1;32m      1\u001b[0m \u001b[39m# Create final dataframe for snowflake table\u001b[39;00m\n\u001b[0;32m----> 2\u001b[0m df_final \u001b[39m=\u001b[39m pd\u001b[39m.\u001b[39mDataFrame()\n\u001b[1;32m      3\u001b[0m df_final[\u001b[39m'\u001b[39m\u001b[39mFACT ID\u001b[39m\u001b[39m'\u001b[39m] \u001b[39m=\u001b[39m [random\u001b[39m.\u001b[39mrandint(\u001b[39m10000\u001b[39m,\u001b[39m99999\u001b[39m) \u001b[39mfor\u001b[39;00m _ \u001b[39min\u001b[39;00m \u001b[39mrange\u001b[39m(\u001b[39mlen\u001b[39m(df_merged))] \u001b[39m# 5 digit random number\u001b[39;00m\n\u001b[1;32m      4\u001b[0m df_final[\u001b[39m'\u001b[39m\u001b[39mTEMPERATURE\u001b[39m\u001b[39m'\u001b[39m] \u001b[39m=\u001b[39m df_merged[\u001b[39m'\u001b[39m\u001b[39mtemperature_2m\u001b[39m\u001b[39m'\u001b[39m]\n",
      "\u001b[0;31mNameError\u001b[0m: name 'pd' is not defined"
     ]
    }
   ],
   "source": [
    "import random\n",
    "\n",
    "# Create final dataframe for snowflake table\n",
    "df_final = pd.DataFrame()\n",
    "df_final['FACT ID'] = [random.randint(10000,99999) for _ in range(len(df_merged))] # 5 digit random number\n",
    "df_final['TEMPERATURE'] = df_merged['temperature_2m']\n",
    "df_final['HUMIDITY'] = df_merged['relativehumidity_2m']\n",
    "df_final['APPARENT TEMPERATURE'] = df_merged['apparent_temperature']\n",
    "df_final['PRECIPITATION RAIN'] = df_merged['precipitation']\n",
    "df_final['RAIN'] = df_merged['rain']\n",
    "df_final['SNOWFALL'] = df_merged['snowfall']\n",
    "df_final['SNOW DEPTH'] = df_merged['snow_depth']\n",
    "df_final['CLOUD COVER TOTAL'] = df_merged['cloudcover']\n",
    "df_final['HOUR DATE ID'] = pd.to_datetime(df_merged['time']).dt.strftime('%Y%m%d%H%M') # Create ID from time\n",
    "df_final['AIRPORT ID'] = df_merged['AirportCode'] # Using AirportCode as AIRPORT ID\n",
    "df_final['TOTAL PAX'] = df_merged['total']\n",
    "\n",
    "# Push final dataframe to Snowflake\n",
    "df_final.to_sql('FACTTABLE', con=engine, if_exists='append', index=False, chunksize=chunksize)"
   ]
  },
  {
   "cell_type": "code",
   "execution_count": null,
   "metadata": {},
   "outputs": [],
   "source": []
  }
 ],
 "metadata": {
  "kernelspec": {
   "display_name": "Python 3",
   "language": "python",
   "name": "python3"
  },
  "language_info": {
   "codemirror_mode": {
    "name": "ipython",
    "version": 3
   },
   "file_extension": ".py",
   "mimetype": "text/x-python",
   "name": "python",
   "nbconvert_exporter": "python",
   "pygments_lexer": "ipython3",
   "version": "3.9.17"
  },
  "orig_nbformat": 4
 },
 "nbformat": 4,
 "nbformat_minor": 2
}
